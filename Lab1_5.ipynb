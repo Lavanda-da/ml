{
  "cells": [
    {
      "cell_type": "markdown",
      "id": "ec6e7d18-6a6e-4a51-a7cd-0a1152604973",
      "metadata": {
        "id": "ec6e7d18-6a6e-4a51-a7cd-0a1152604973"
      },
      "source": [
        "## Лабораторная работа №1 | Вариант 5"
      ]
    },
    {
      "cell_type": "markdown",
      "id": "277877ce-f982-4711-a6a6-2a4a90871409",
      "metadata": {
        "id": "277877ce-f982-4711-a6a6-2a4a90871409"
      },
      "source": [
        "Выполнил: Сектименко Ирина Владимировна М8О-310Б-22"
      ]
    },
    {
      "cell_type": "markdown",
      "id": "031f025d-84dc-470f-b839-456a76d9636b",
      "metadata": {
        "id": "031f025d-84dc-470f-b839-456a76d9636b"
      },
      "source": [
        "### 1. Numpy"
      ]
    },
    {
      "cell_type": "code",
      "execution_count": 5,
      "id": "8a2c6f8d-e85b-4982-ba6d-77ffdb7d53e8",
      "metadata": {
        "id": "8a2c6f8d-e85b-4982-ba6d-77ffdb7d53e8"
      },
      "outputs": [],
      "source": [
        "import numpy as np"
      ]
    },
    {
      "cell_type": "markdown",
      "id": "6ff3559d-5f3e-4540-9a31-bfb9f42a23da",
      "metadata": {
        "id": "6ff3559d-5f3e-4540-9a31-bfb9f42a23da"
      },
      "source": [
        "1. Создайте единичную матрицу размером 3х3"
      ]
    },
    {
      "cell_type": "code",
      "execution_count": null,
      "id": "752bc586-1e3f-4085-85c3-4068b781314f",
      "metadata": {
        "colab": {
          "base_uri": "https://localhost:8080/"
        },
        "id": "752bc586-1e3f-4085-85c3-4068b781314f",
        "outputId": "af76557a-bee2-41f2-dfb6-6726ee8b7e3d"
      },
      "outputs": [
        {
          "output_type": "execute_result",
          "data": {
            "text/plain": [
              "array([[1., 0., 0.],\n",
              "       [0., 1., 0.],\n",
              "       [0., 0., 1.]])"
            ]
          },
          "metadata": {},
          "execution_count": 18
        }
      ],
      "source": [
        "E = np.eye(3)\n",
        "E"
      ]
    },
    {
      "cell_type": "markdown",
      "id": "0243a0f6-1905-4e2d-9572-9ba49dc003a8",
      "metadata": {
        "id": "0243a0f6-1905-4e2d-9572-9ba49dc003a8"
      },
      "source": [
        "2. Создайте кастомный dtype который описывает цвет состоящий из 4х unsigned bytes(RGBA пиксель)"
      ]
    },
    {
      "cell_type": "code",
      "execution_count": null,
      "id": "ec6ae581-5adf-459c-bdc7-8b015d9529f6",
      "metadata": {
        "id": "ec6ae581-5adf-459c-bdc7-8b015d9529f6",
        "colab": {
          "base_uri": "https://localhost:8080/"
        },
        "outputId": "d6dbb03b-712c-4d7e-a4c0-f73f4bb9d8cc"
      },
      "outputs": [
        {
          "output_type": "execute_result",
          "data": {
            "text/plain": [
              "dtype([('R', 'u1'), ('G', 'u1'), ('B', 'u1'), ('A', 'u1')])"
            ]
          },
          "metadata": {},
          "execution_count": 19
        }
      ],
      "source": [
        "pixel = np.dtype([('R', np.ubyte),\n",
        "                  ('G', np.ubyte),\n",
        "                  ('B', np.ubyte),\n",
        "                  ('A', np.ubyte)])\n",
        "pixel"
      ]
    },
    {
      "cell_type": "markdown",
      "id": "8c7d3811-a555-4c02-ada8-e4a70b9dee46",
      "metadata": {
        "id": "8c7d3811-a555-4c02-ada8-e4a70b9dee46"
      },
      "source": [
        "3. Как игнорировать все numpy warnings(не рекомендуем к использованию)?"
      ]
    },
    {
      "cell_type": "code",
      "execution_count": null,
      "id": "12d0ed34-908c-4840-8b81-457e64dd7b0b",
      "metadata": {
        "id": "12d0ed34-908c-4840-8b81-457e64dd7b0b"
      },
      "outputs": [],
      "source": [
        "import warnings\n",
        "\n",
        "warnings.filterwarnings('ignore')"
      ]
    },
    {
      "cell_type": "markdown",
      "id": "b7ca56e6-a194-4c42-b8a2-307fcf40f648",
      "metadata": {
        "id": "b7ca56e6-a194-4c42-b8a2-307fcf40f648"
      },
      "source": [
        "4. Создайте случайный вектор размера 10 и отсортируйте его"
      ]
    },
    {
      "cell_type": "code",
      "execution_count": null,
      "id": "1b1d64cd-0e28-400f-8d49-a1274947e150",
      "metadata": {
        "id": "1b1d64cd-0e28-400f-8d49-a1274947e150",
        "colab": {
          "base_uri": "https://localhost:8080/"
        },
        "outputId": "159e744e-3c0c-4ddb-ef33-ef3600b052ce"
      },
      "outputs": [
        {
          "output_type": "stream",
          "name": "stdout",
          "text": [
            "[0.2980323  0.10589993 0.15806798 0.90590084 0.29326048 0.95806872\n",
            " 0.96840413 0.26410766 0.17978844 0.06874612]\n",
            "[0.06874612 0.10589993 0.15806798 0.17978844 0.26410766 0.29326048\n",
            " 0.2980323  0.90590084 0.95806872 0.96840413]\n"
          ]
        }
      ],
      "source": [
        "random_vector = np.random.random(10)\n",
        "print(random_vector)\n",
        "random_vector.sort()\n",
        "print(random_vector)"
      ]
    },
    {
      "cell_type": "markdown",
      "id": "b3b2cd1e-e996-45e0-b9ed-e12ce653a9c3",
      "metadata": {
        "id": "b3b2cd1e-e996-45e0-b9ed-e12ce653a9c3"
      },
      "source": [
        "5. Создайте read-only массив(неизменяемый)"
      ]
    },
    {
      "cell_type": "code",
      "execution_count": null,
      "id": "c40ef785-d750-42ba-ac6e-b777866202a6",
      "metadata": {
        "id": "c40ef785-d750-42ba-ac6e-b777866202a6",
        "colab": {
          "base_uri": "https://localhost:8080/",
          "height": 182
        },
        "outputId": "c1296fa6-acb5-4106-f8d1-ee7716ac9c9c"
      },
      "outputs": [
        {
          "output_type": "error",
          "ename": "ValueError",
          "evalue": "assignment destination is read-only",
          "traceback": [
            "\u001b[0;31m---------------------------------------------------------------------------\u001b[0m",
            "\u001b[0;31mValueError\u001b[0m                                Traceback (most recent call last)",
            "\u001b[0;32m<ipython-input-20-f6a4739e1aee>\u001b[0m in \u001b[0;36m<cell line: 3>\u001b[0;34m()\u001b[0m\n\u001b[1;32m      1\u001b[0m \u001b[0mmatrix\u001b[0m \u001b[0;34m=\u001b[0m \u001b[0mnp\u001b[0m\u001b[0;34m.\u001b[0m\u001b[0marray\u001b[0m\u001b[0;34m(\u001b[0m\u001b[0;34m[\u001b[0m\u001b[0;36m1\u001b[0m\u001b[0;34m,\u001b[0m \u001b[0;36m2\u001b[0m\u001b[0;34m,\u001b[0m \u001b[0;36m3\u001b[0m\u001b[0;34m,\u001b[0m \u001b[0;36m4\u001b[0m\u001b[0;34m]\u001b[0m\u001b[0;34m)\u001b[0m\u001b[0;34m\u001b[0m\u001b[0;34m\u001b[0m\u001b[0m\n\u001b[1;32m      2\u001b[0m \u001b[0mmatrix\u001b[0m\u001b[0;34m.\u001b[0m\u001b[0msetflags\u001b[0m\u001b[0;34m(\u001b[0m\u001b[0mwrite\u001b[0m\u001b[0;34m=\u001b[0m\u001b[0;32mFalse\u001b[0m\u001b[0;34m)\u001b[0m\u001b[0;34m\u001b[0m\u001b[0;34m\u001b[0m\u001b[0m\n\u001b[0;32m----> 3\u001b[0;31m \u001b[0mmatrix\u001b[0m\u001b[0;34m[\u001b[0m\u001b[0;36m1\u001b[0m\u001b[0;34m]\u001b[0m \u001b[0;34m=\u001b[0m \u001b[0;36m0\u001b[0m\u001b[0;34m\u001b[0m\u001b[0;34m\u001b[0m\u001b[0m\n\u001b[0m",
            "\u001b[0;31mValueError\u001b[0m: assignment destination is read-only"
          ]
        }
      ],
      "source": [
        "matrix = np.array([1, 2, 3, 4])\n",
        "matrix.setflags(write=False)\n",
        "matrix[1] = 0"
      ]
    },
    {
      "cell_type": "markdown",
      "id": "8108b3a8-5ba8-472d-ad6b-095ade8678ef",
      "metadata": {
        "id": "8108b3a8-5ba8-472d-ad6b-095ade8678ef"
      },
      "source": [
        "6. Рассмотрим случайную матрицу размером 10х2, представляющую декартовы координаты, преобразуем их в полярные координаты"
      ]
    },
    {
      "cell_type": "code",
      "execution_count": null,
      "id": "89b58c0a-bd5d-435a-be45-719fdfce662a",
      "metadata": {
        "id": "89b58c0a-bd5d-435a-be45-719fdfce662a",
        "colab": {
          "base_uri": "https://localhost:8080/"
        },
        "outputId": "46adc887-b178-4ede-b258-7dd8f286a52f"
      },
      "outputs": [
        {
          "output_type": "stream",
          "name": "stdout",
          "text": [
            "[[4 0]\n",
            " [7 1]\n",
            " [7 9]\n",
            " [2 3]\n",
            " [6 0]\n",
            " [0 3]\n",
            " [5 7]\n",
            " [9 0]\n",
            " [6 3]\n",
            " [6 2]]\n",
            "[[ 4.          0.        ]\n",
            " [ 7.07106781  0.14189705]\n",
            " [11.40175425  0.90975316]\n",
            " [ 3.60555128  0.98279372]\n",
            " [ 6.          0.        ]\n",
            " [ 3.          1.57079633]\n",
            " [ 8.60232527  0.95054684]\n",
            " [ 9.          0.        ]\n",
            " [ 6.70820393  0.46364761]\n",
            " [ 6.32455532  0.32175055]]\n"
          ]
        }
      ],
      "source": [
        "coord = np.random.randint(0, 10, size=(10, 2))\n",
        "polar = np.column_stack((np.sqrt(coord[:, 0] ** 2 + coord[:, 1] ** 2), np.arctan(coord[:, 1] / coord[:, 0])))\n",
        "print(coord)\n",
        "print(polar)"
      ]
    },
    {
      "cell_type": "markdown",
      "id": "98511652-db85-4506-a5b8-f94b05d35ce9",
      "metadata": {
        "id": "98511652-db85-4506-a5b8-f94b05d35ce9"
      },
      "source": [
        "7. Создайте структурированный массив с координатами x и y, охватывающий область [0,1]x[0,1]"
      ]
    },
    {
      "cell_type": "code",
      "execution_count": null,
      "id": "ca72cdb0-ed24-460d-81a9-220b850d62c3",
      "metadata": {
        "id": "ca72cdb0-ed24-460d-81a9-220b850d62c3",
        "colab": {
          "base_uri": "https://localhost:8080/"
        },
        "outputId": "1a941a70-9725-4a88-e231-17dfedda71eb"
      },
      "outputs": [
        {
          "output_type": "execute_result",
          "data": {
            "text/plain": [
              "array([(0.        , 0.        ), (0.11111111, 0.        ),\n",
              "       (0.22222222, 0.        ), (0.33333333, 0.        ),\n",
              "       (0.44444444, 0.        ), (0.55555556, 0.        ),\n",
              "       (0.66666667, 0.        ), (0.77777778, 0.        ),\n",
              "       (0.88888889, 0.        ), (1.        , 0.        ),\n",
              "       (0.        , 0.11111111), (0.11111111, 0.11111111),\n",
              "       (0.22222222, 0.11111111), (0.33333333, 0.11111111),\n",
              "       (0.44444444, 0.11111111), (0.55555556, 0.11111111),\n",
              "       (0.66666667, 0.11111111), (0.77777778, 0.11111111),\n",
              "       (0.88888889, 0.11111111), (1.        , 0.11111111),\n",
              "       (0.        , 0.22222222), (0.11111111, 0.22222222),\n",
              "       (0.22222222, 0.22222222), (0.33333333, 0.22222222),\n",
              "       (0.44444444, 0.22222222), (0.55555556, 0.22222222),\n",
              "       (0.66666667, 0.22222222), (0.77777778, 0.22222222),\n",
              "       (0.88888889, 0.22222222), (1.        , 0.22222222),\n",
              "       (0.        , 0.33333333), (0.11111111, 0.33333333),\n",
              "       (0.22222222, 0.33333333), (0.33333333, 0.33333333),\n",
              "       (0.44444444, 0.33333333), (0.55555556, 0.33333333),\n",
              "       (0.66666667, 0.33333333), (0.77777778, 0.33333333),\n",
              "       (0.88888889, 0.33333333), (1.        , 0.33333333),\n",
              "       (0.        , 0.44444444), (0.11111111, 0.44444444),\n",
              "       (0.22222222, 0.44444444), (0.33333333, 0.44444444),\n",
              "       (0.44444444, 0.44444444), (0.55555556, 0.44444444),\n",
              "       (0.66666667, 0.44444444), (0.77777778, 0.44444444),\n",
              "       (0.88888889, 0.44444444), (1.        , 0.44444444),\n",
              "       (0.        , 0.55555556), (0.11111111, 0.55555556),\n",
              "       (0.22222222, 0.55555556), (0.33333333, 0.55555556),\n",
              "       (0.44444444, 0.55555556), (0.55555556, 0.55555556),\n",
              "       (0.66666667, 0.55555556), (0.77777778, 0.55555556),\n",
              "       (0.88888889, 0.55555556), (1.        , 0.55555556),\n",
              "       (0.        , 0.66666667), (0.11111111, 0.66666667),\n",
              "       (0.22222222, 0.66666667), (0.33333333, 0.66666667),\n",
              "       (0.44444444, 0.66666667), (0.55555556, 0.66666667),\n",
              "       (0.66666667, 0.66666667), (0.77777778, 0.66666667),\n",
              "       (0.88888889, 0.66666667), (1.        , 0.66666667),\n",
              "       (0.        , 0.77777778), (0.11111111, 0.77777778),\n",
              "       (0.22222222, 0.77777778), (0.33333333, 0.77777778),\n",
              "       (0.44444444, 0.77777778), (0.55555556, 0.77777778),\n",
              "       (0.66666667, 0.77777778), (0.77777778, 0.77777778),\n",
              "       (0.88888889, 0.77777778), (1.        , 0.77777778),\n",
              "       (0.        , 0.88888889), (0.11111111, 0.88888889),\n",
              "       (0.22222222, 0.88888889), (0.33333333, 0.88888889),\n",
              "       (0.44444444, 0.88888889), (0.55555556, 0.88888889),\n",
              "       (0.66666667, 0.88888889), (0.77777778, 0.88888889),\n",
              "       (0.88888889, 0.88888889), (1.        , 0.88888889),\n",
              "       (0.        , 1.        ), (0.11111111, 1.        ),\n",
              "       (0.22222222, 1.        ), (0.33333333, 1.        ),\n",
              "       (0.44444444, 1.        ), (0.55555556, 1.        ),\n",
              "       (0.66666667, 1.        ), (0.77777778, 1.        ),\n",
              "       (0.88888889, 1.        ), (1.        , 1.        )],\n",
              "      dtype=[('x', '<f8'), ('y', '<f8')])"
            ]
          },
          "metadata": {},
          "execution_count": 20
        }
      ],
      "source": [
        "coord_dtype = np.dtype([('x', np.float64), ('y', np.float64)])\n",
        "\n",
        "x = np.linspace(0, 1, 10)\n",
        "y = np.linspace(0, 1, 10)\n",
        "\n",
        "xgrid, ygrid = np.meshgrid(x, y)\n",
        "xgrid = xgrid.reshape(-1)\n",
        "ygrid = ygrid.reshape(-1)\n",
        "\n",
        "coords = np.zeros(xgrid.shape, dtype=coord_dtype)\n",
        "coords['x'] = xgrid\n",
        "coords['y'] = ygrid\n",
        "\n",
        "coords"
      ]
    },
    {
      "cell_type": "markdown",
      "id": "1412a70a-2a1e-406e-a227-afc9a47ed659",
      "metadata": {
        "id": "1412a70a-2a1e-406e-a227-afc9a47ed659"
      },
      "source": [
        "8. Учитывая два массива X и Y, постройте матрицу Коши $C$ ($C_{ij} =\\frac{1}{x_i - y_j}$)"
      ]
    },
    {
      "cell_type": "code",
      "execution_count": null,
      "id": "22bb8bbf-52dd-4d3c-86c0-c4e9637b909b",
      "metadata": {
        "id": "22bb8bbf-52dd-4d3c-86c0-c4e9637b909b",
        "colab": {
          "base_uri": "https://localhost:8080/"
        },
        "outputId": "1f3cc0b0-876e-4000-b97c-6b464fa7d6ed"
      },
      "outputs": [
        {
          "output_type": "stream",
          "name": "stdout",
          "text": [
            "[-0.34074243  1.68025562  0.2070601   0.47113383  0.58120897]\n",
            "[ 0.59008191 -1.04929918  0.08153207 -2.04348737  0.08715697]\n",
            "[[  -1.07431656    0.91728501   -2.61081737   -8.40702901 -112.70220651]\n",
            " [   1.41131956    0.36636011    0.79595066    0.65770737    0.61330574]\n",
            " [  -2.36812786    0.62549901    7.96634811    2.56672353    2.00129322]\n",
            " [   0.58728702    0.268547      0.44433633    0.39767421    0.38099646]\n",
            " [  -2.33699791    0.62770752    8.34006579    2.60432362    2.02407843]]\n"
          ]
        }
      ],
      "source": [
        "x = np.random.normal(size=(5))\n",
        "y = np.random.normal(size=(5))\n",
        "newX, newY = np.meshgrid(x, y)\n",
        "c = 1 / (newX - newY)\n",
        "print(x, y, c, sep='\\n')"
      ]
    },
    {
      "cell_type": "markdown",
      "id": "f7dc66bf-f7c8-4d78-834b-451651f6839a",
      "metadata": {
        "id": "f7dc66bf-f7c8-4d78-834b-451651f6839a"
      },
      "source": [
        "9. Как конвертировать массив float(32 bit) к массиву целых чисел (integer 32 bit) in place?"
      ]
    },
    {
      "cell_type": "code",
      "execution_count": null,
      "id": "0ecf5586-d30e-4256-ab93-7ff9bab0b34b",
      "metadata": {
        "id": "0ecf5586-d30e-4256-ab93-7ff9bab0b34b",
        "colab": {
          "base_uri": "https://localhost:8080/"
        },
        "outputId": "c80cf4dc-6610-48f8-9f40-ab3e7d73ab40"
      },
      "outputs": [
        {
          "output_type": "execute_result",
          "data": {
            "text/plain": [
              "array([1, 2, 3, 4, 5, 6], dtype=int32)"
            ]
          },
          "metadata": {},
          "execution_count": 31
        }
      ],
      "source": [
        "convert_array = np.array([1.1, 2.2, 3.3, 4.4, 5.5, 6.6], dtype=np.float32)\n",
        "convert_array = convert_array.astype(np.int32, copy=False)\n",
        "convert_array"
      ]
    },
    {
      "cell_type": "markdown",
      "id": "a66194f1-0099-4808-8ebf-5cf10eee5071",
      "metadata": {
        "id": "a66194f1-0099-4808-8ebf-5cf10eee5071"
      },
      "source": [
        "10. Как случайно заменить p элементов в 2D массиве?"
      ]
    },
    {
      "cell_type": "code",
      "execution_count": null,
      "id": "07ed452c-3f7c-40a7-a5b5-716602a5eed9",
      "metadata": {
        "id": "07ed452c-3f7c-40a7-a5b5-716602a5eed9",
        "colab": {
          "base_uri": "https://localhost:8080/"
        },
        "outputId": "7d27dcaa-6b83-4c21-b27a-e6a553d92c47"
      },
      "outputs": [
        {
          "output_type": "execute_result",
          "data": {
            "text/plain": [
              "array([[0., 0., 0., 0., 0., 0., 0., 0., 0.],\n",
              "       [0., 0., 5., 0., 0., 0., 0., 0., 0.],\n",
              "       [0., 0., 0., 0., 0., 0., 4., 0., 0.],\n",
              "       [8., 0., 2., 0., 2., 0., 0., 0., 0.]])"
            ]
          },
          "metadata": {},
          "execution_count": 40
        }
      ],
      "source": [
        "m = 4\n",
        "n = 9\n",
        "p = 5\n",
        "array = np.zeros((m, n))\n",
        "\n",
        "random_num = np.random.choice(10, p)\n",
        "row_index = np.random.choice(m, p)\n",
        "col_index = np.random.choice(n, p)\n",
        "\n",
        "array[row_index, col_index] = random_num\n",
        "\n",
        "array"
      ]
    },
    {
      "cell_type": "markdown",
      "id": "5bd0f757-bb01-4afb-b4f0-6821b5c5b2b7",
      "metadata": {
        "id": "5bd0f757-bb01-4afb-b4f0-6821b5c5b2b7"
      },
      "source": [
        "### 2. Pandas"
      ]
    },
    {
      "cell_type": "markdown",
      "id": "bdffd013-e573-4318-8062-65ae1c5e07e8",
      "metadata": {
        "id": "bdffd013-e573-4318-8062-65ae1c5e07e8"
      },
      "source": [
        "Найдите ответы на вопросы или выполните действия с предложенным датасетом\n",
        "\n",
        "Классический начальный набор данных - данные пассажиров титаника.\n",
        "\n",
        "Файл: `data.csv`\n",
        "\n",
        "```\n",
        "PassangerId - уникальный номер пассажира\n",
        "Survived - выжил человек или нет\n",
        "Pclass - класс обслуживания\n",
        "Name - имя человека, обращение к ней/нему\n",
        "Sex - пол человека\n",
        "Age - возраст на момент крушения\n",
        "SibSp - количество братьев и сестер / супругов на борту \"Титаника\"\n",
        "Parch - количество родителей / детей на борту \"Титаника\"\n",
        "Ticket - номер билета\n",
        "Fare - стоимость проезда для пассажиров\n",
        "Cabin - каюта\n",
        "Embarked - причал отбытия. C = Cherbourg Q = Queenstown S = Southampton\n",
        "```"
      ]
    },
    {
      "cell_type": "code",
      "execution_count": 2,
      "id": "0778ec2b-a7b2-4738-b771-bb1781986f62",
      "metadata": {
        "id": "0778ec2b-a7b2-4738-b771-bb1781986f62"
      },
      "outputs": [],
      "source": [
        "import pandas as pd"
      ]
    },
    {
      "cell_type": "code",
      "execution_count": 9,
      "id": "bfc45614-d44b-49bd-a55c-c410a95a808f",
      "metadata": {
        "id": "bfc45614-d44b-49bd-a55c-c410a95a808f",
        "colab": {
          "base_uri": "https://localhost:8080/",
          "height": 527
        },
        "outputId": "4de80c82-619f-411d-e393-0a5c5c515e36"
      },
      "outputs": [
        {
          "output_type": "execute_result",
          "data": {
            "text/plain": [
              "     PassengerId  Survived  Pclass  \\\n",
              "0              1         0       3   \n",
              "1              2         1       1   \n",
              "2              3         1       3   \n",
              "3              4         1       1   \n",
              "4              5         0       3   \n",
              "..           ...       ...     ...   \n",
              "886          887         0       2   \n",
              "887          888         1       1   \n",
              "888          889         0       3   \n",
              "889          890         1       1   \n",
              "890          891         0       3   \n",
              "\n",
              "                                                  Name     Sex   Age  SibSp  \\\n",
              "0                              Braund, Mr. Owen Harris    male  22.0      1   \n",
              "1    Cumings, Mrs. John Bradley (Florence Briggs Th...  female  38.0      1   \n",
              "2                               Heikkinen, Miss. Laina  female  26.0      0   \n",
              "3         Futrelle, Mrs. Jacques Heath (Lily May Peel)  female  35.0      1   \n",
              "4                             Allen, Mr. William Henry    male  35.0      0   \n",
              "..                                                 ...     ...   ...    ...   \n",
              "886                              Montvila, Rev. Juozas    male  27.0      0   \n",
              "887                       Graham, Miss. Margaret Edith  female  19.0      0   \n",
              "888           Johnston, Miss. Catherine Helen \"Carrie\"  female   NaN      1   \n",
              "889                              Behr, Mr. Karl Howell    male  26.0      0   \n",
              "890                                Dooley, Mr. Patrick    male  32.0      0   \n",
              "\n",
              "     Parch            Ticket     Fare Cabin Embarked  \n",
              "0        0         A/5 21171   7.2500   NaN        S  \n",
              "1        0          PC 17599  71.2833   C85        C  \n",
              "2        0  STON/O2. 3101282   7.9250   NaN        S  \n",
              "3        0            113803  53.1000  C123        S  \n",
              "4        0            373450   8.0500   NaN        S  \n",
              "..     ...               ...      ...   ...      ...  \n",
              "886      0            211536  13.0000   NaN        S  \n",
              "887      0            112053  30.0000   B42        S  \n",
              "888      2        W./C. 6607  23.4500   NaN        S  \n",
              "889      0            111369  30.0000  C148        C  \n",
              "890      0            370376   7.7500   NaN        Q  \n",
              "\n",
              "[891 rows x 12 columns]"
            ],
            "text/html": [
              "\n",
              "  <div id=\"df-18670b71-5b7d-4299-a1b1-16f8dcc3a5d9\" class=\"colab-df-container\">\n",
              "    <div>\n",
              "<style scoped>\n",
              "    .dataframe tbody tr th:only-of-type {\n",
              "        vertical-align: middle;\n",
              "    }\n",
              "\n",
              "    .dataframe tbody tr th {\n",
              "        vertical-align: top;\n",
              "    }\n",
              "\n",
              "    .dataframe thead th {\n",
              "        text-align: right;\n",
              "    }\n",
              "</style>\n",
              "<table border=\"1\" class=\"dataframe\">\n",
              "  <thead>\n",
              "    <tr style=\"text-align: right;\">\n",
              "      <th></th>\n",
              "      <th>PassengerId</th>\n",
              "      <th>Survived</th>\n",
              "      <th>Pclass</th>\n",
              "      <th>Name</th>\n",
              "      <th>Sex</th>\n",
              "      <th>Age</th>\n",
              "      <th>SibSp</th>\n",
              "      <th>Parch</th>\n",
              "      <th>Ticket</th>\n",
              "      <th>Fare</th>\n",
              "      <th>Cabin</th>\n",
              "      <th>Embarked</th>\n",
              "    </tr>\n",
              "  </thead>\n",
              "  <tbody>\n",
              "    <tr>\n",
              "      <th>0</th>\n",
              "      <td>1</td>\n",
              "      <td>0</td>\n",
              "      <td>3</td>\n",
              "      <td>Braund, Mr. Owen Harris</td>\n",
              "      <td>male</td>\n",
              "      <td>22.0</td>\n",
              "      <td>1</td>\n",
              "      <td>0</td>\n",
              "      <td>A/5 21171</td>\n",
              "      <td>7.2500</td>\n",
              "      <td>NaN</td>\n",
              "      <td>S</td>\n",
              "    </tr>\n",
              "    <tr>\n",
              "      <th>1</th>\n",
              "      <td>2</td>\n",
              "      <td>1</td>\n",
              "      <td>1</td>\n",
              "      <td>Cumings, Mrs. John Bradley (Florence Briggs Th...</td>\n",
              "      <td>female</td>\n",
              "      <td>38.0</td>\n",
              "      <td>1</td>\n",
              "      <td>0</td>\n",
              "      <td>PC 17599</td>\n",
              "      <td>71.2833</td>\n",
              "      <td>C85</td>\n",
              "      <td>C</td>\n",
              "    </tr>\n",
              "    <tr>\n",
              "      <th>2</th>\n",
              "      <td>3</td>\n",
              "      <td>1</td>\n",
              "      <td>3</td>\n",
              "      <td>Heikkinen, Miss. Laina</td>\n",
              "      <td>female</td>\n",
              "      <td>26.0</td>\n",
              "      <td>0</td>\n",
              "      <td>0</td>\n",
              "      <td>STON/O2. 3101282</td>\n",
              "      <td>7.9250</td>\n",
              "      <td>NaN</td>\n",
              "      <td>S</td>\n",
              "    </tr>\n",
              "    <tr>\n",
              "      <th>3</th>\n",
              "      <td>4</td>\n",
              "      <td>1</td>\n",
              "      <td>1</td>\n",
              "      <td>Futrelle, Mrs. Jacques Heath (Lily May Peel)</td>\n",
              "      <td>female</td>\n",
              "      <td>35.0</td>\n",
              "      <td>1</td>\n",
              "      <td>0</td>\n",
              "      <td>113803</td>\n",
              "      <td>53.1000</td>\n",
              "      <td>C123</td>\n",
              "      <td>S</td>\n",
              "    </tr>\n",
              "    <tr>\n",
              "      <th>4</th>\n",
              "      <td>5</td>\n",
              "      <td>0</td>\n",
              "      <td>3</td>\n",
              "      <td>Allen, Mr. William Henry</td>\n",
              "      <td>male</td>\n",
              "      <td>35.0</td>\n",
              "      <td>0</td>\n",
              "      <td>0</td>\n",
              "      <td>373450</td>\n",
              "      <td>8.0500</td>\n",
              "      <td>NaN</td>\n",
              "      <td>S</td>\n",
              "    </tr>\n",
              "    <tr>\n",
              "      <th>...</th>\n",
              "      <td>...</td>\n",
              "      <td>...</td>\n",
              "      <td>...</td>\n",
              "      <td>...</td>\n",
              "      <td>...</td>\n",
              "      <td>...</td>\n",
              "      <td>...</td>\n",
              "      <td>...</td>\n",
              "      <td>...</td>\n",
              "      <td>...</td>\n",
              "      <td>...</td>\n",
              "      <td>...</td>\n",
              "    </tr>\n",
              "    <tr>\n",
              "      <th>886</th>\n",
              "      <td>887</td>\n",
              "      <td>0</td>\n",
              "      <td>2</td>\n",
              "      <td>Montvila, Rev. Juozas</td>\n",
              "      <td>male</td>\n",
              "      <td>27.0</td>\n",
              "      <td>0</td>\n",
              "      <td>0</td>\n",
              "      <td>211536</td>\n",
              "      <td>13.0000</td>\n",
              "      <td>NaN</td>\n",
              "      <td>S</td>\n",
              "    </tr>\n",
              "    <tr>\n",
              "      <th>887</th>\n",
              "      <td>888</td>\n",
              "      <td>1</td>\n",
              "      <td>1</td>\n",
              "      <td>Graham, Miss. Margaret Edith</td>\n",
              "      <td>female</td>\n",
              "      <td>19.0</td>\n",
              "      <td>0</td>\n",
              "      <td>0</td>\n",
              "      <td>112053</td>\n",
              "      <td>30.0000</td>\n",
              "      <td>B42</td>\n",
              "      <td>S</td>\n",
              "    </tr>\n",
              "    <tr>\n",
              "      <th>888</th>\n",
              "      <td>889</td>\n",
              "      <td>0</td>\n",
              "      <td>3</td>\n",
              "      <td>Johnston, Miss. Catherine Helen \"Carrie\"</td>\n",
              "      <td>female</td>\n",
              "      <td>NaN</td>\n",
              "      <td>1</td>\n",
              "      <td>2</td>\n",
              "      <td>W./C. 6607</td>\n",
              "      <td>23.4500</td>\n",
              "      <td>NaN</td>\n",
              "      <td>S</td>\n",
              "    </tr>\n",
              "    <tr>\n",
              "      <th>889</th>\n",
              "      <td>890</td>\n",
              "      <td>1</td>\n",
              "      <td>1</td>\n",
              "      <td>Behr, Mr. Karl Howell</td>\n",
              "      <td>male</td>\n",
              "      <td>26.0</td>\n",
              "      <td>0</td>\n",
              "      <td>0</td>\n",
              "      <td>111369</td>\n",
              "      <td>30.0000</td>\n",
              "      <td>C148</td>\n",
              "      <td>C</td>\n",
              "    </tr>\n",
              "    <tr>\n",
              "      <th>890</th>\n",
              "      <td>891</td>\n",
              "      <td>0</td>\n",
              "      <td>3</td>\n",
              "      <td>Dooley, Mr. Patrick</td>\n",
              "      <td>male</td>\n",
              "      <td>32.0</td>\n",
              "      <td>0</td>\n",
              "      <td>0</td>\n",
              "      <td>370376</td>\n",
              "      <td>7.7500</td>\n",
              "      <td>NaN</td>\n",
              "      <td>Q</td>\n",
              "    </tr>\n",
              "  </tbody>\n",
              "</table>\n",
              "<p>891 rows × 12 columns</p>\n",
              "</div>\n",
              "    <div class=\"colab-df-buttons\">\n",
              "\n",
              "  <div class=\"colab-df-container\">\n",
              "    <button class=\"colab-df-convert\" onclick=\"convertToInteractive('df-18670b71-5b7d-4299-a1b1-16f8dcc3a5d9')\"\n",
              "            title=\"Convert this dataframe to an interactive table.\"\n",
              "            style=\"display:none;\">\n",
              "\n",
              "  <svg xmlns=\"http://www.w3.org/2000/svg\" height=\"24px\" viewBox=\"0 -960 960 960\">\n",
              "    <path d=\"M120-120v-720h720v720H120Zm60-500h600v-160H180v160Zm220 220h160v-160H400v160Zm0 220h160v-160H400v160ZM180-400h160v-160H180v160Zm440 0h160v-160H620v160ZM180-180h160v-160H180v160Zm440 0h160v-160H620v160Z\"/>\n",
              "  </svg>\n",
              "    </button>\n",
              "\n",
              "  <style>\n",
              "    .colab-df-container {\n",
              "      display:flex;\n",
              "      gap: 12px;\n",
              "    }\n",
              "\n",
              "    .colab-df-convert {\n",
              "      background-color: #E8F0FE;\n",
              "      border: none;\n",
              "      border-radius: 50%;\n",
              "      cursor: pointer;\n",
              "      display: none;\n",
              "      fill: #1967D2;\n",
              "      height: 32px;\n",
              "      padding: 0 0 0 0;\n",
              "      width: 32px;\n",
              "    }\n",
              "\n",
              "    .colab-df-convert:hover {\n",
              "      background-color: #E2EBFA;\n",
              "      box-shadow: 0px 1px 2px rgba(60, 64, 67, 0.3), 0px 1px 3px 1px rgba(60, 64, 67, 0.15);\n",
              "      fill: #174EA6;\n",
              "    }\n",
              "\n",
              "    .colab-df-buttons div {\n",
              "      margin-bottom: 4px;\n",
              "    }\n",
              "\n",
              "    [theme=dark] .colab-df-convert {\n",
              "      background-color: #3B4455;\n",
              "      fill: #D2E3FC;\n",
              "    }\n",
              "\n",
              "    [theme=dark] .colab-df-convert:hover {\n",
              "      background-color: #434B5C;\n",
              "      box-shadow: 0px 1px 3px 1px rgba(0, 0, 0, 0.15);\n",
              "      filter: drop-shadow(0px 1px 2px rgba(0, 0, 0, 0.3));\n",
              "      fill: #FFFFFF;\n",
              "    }\n",
              "  </style>\n",
              "\n",
              "    <script>\n",
              "      const buttonEl =\n",
              "        document.querySelector('#df-18670b71-5b7d-4299-a1b1-16f8dcc3a5d9 button.colab-df-convert');\n",
              "      buttonEl.style.display =\n",
              "        google.colab.kernel.accessAllowed ? 'block' : 'none';\n",
              "\n",
              "      async function convertToInteractive(key) {\n",
              "        const element = document.querySelector('#df-18670b71-5b7d-4299-a1b1-16f8dcc3a5d9');\n",
              "        const dataTable =\n",
              "          await google.colab.kernel.invokeFunction('convertToInteractive',\n",
              "                                                    [key], {});\n",
              "        if (!dataTable) return;\n",
              "\n",
              "        const docLinkHtml = 'Like what you see? Visit the ' +\n",
              "          '<a target=\"_blank\" href=https://colab.research.google.com/notebooks/data_table.ipynb>data table notebook</a>'\n",
              "          + ' to learn more about interactive tables.';\n",
              "        element.innerHTML = '';\n",
              "        dataTable['output_type'] = 'display_data';\n",
              "        await google.colab.output.renderOutput(dataTable, element);\n",
              "        const docLink = document.createElement('div');\n",
              "        docLink.innerHTML = docLinkHtml;\n",
              "        element.appendChild(docLink);\n",
              "      }\n",
              "    </script>\n",
              "  </div>\n",
              "\n",
              "\n",
              "<div id=\"df-52e5c9d5-d94f-454f-bf12-fd84c40d5dcc\">\n",
              "  <button class=\"colab-df-quickchart\" onclick=\"quickchart('df-52e5c9d5-d94f-454f-bf12-fd84c40d5dcc')\"\n",
              "            title=\"Suggest charts\"\n",
              "            style=\"display:none;\">\n",
              "\n",
              "<svg xmlns=\"http://www.w3.org/2000/svg\" height=\"24px\"viewBox=\"0 0 24 24\"\n",
              "     width=\"24px\">\n",
              "    <g>\n",
              "        <path d=\"M19 3H5c-1.1 0-2 .9-2 2v14c0 1.1.9 2 2 2h14c1.1 0 2-.9 2-2V5c0-1.1-.9-2-2-2zM9 17H7v-7h2v7zm4 0h-2V7h2v10zm4 0h-2v-4h2v4z\"/>\n",
              "    </g>\n",
              "</svg>\n",
              "  </button>\n",
              "\n",
              "<style>\n",
              "  .colab-df-quickchart {\n",
              "      --bg-color: #E8F0FE;\n",
              "      --fill-color: #1967D2;\n",
              "      --hover-bg-color: #E2EBFA;\n",
              "      --hover-fill-color: #174EA6;\n",
              "      --disabled-fill-color: #AAA;\n",
              "      --disabled-bg-color: #DDD;\n",
              "  }\n",
              "\n",
              "  [theme=dark] .colab-df-quickchart {\n",
              "      --bg-color: #3B4455;\n",
              "      --fill-color: #D2E3FC;\n",
              "      --hover-bg-color: #434B5C;\n",
              "      --hover-fill-color: #FFFFFF;\n",
              "      --disabled-bg-color: #3B4455;\n",
              "      --disabled-fill-color: #666;\n",
              "  }\n",
              "\n",
              "  .colab-df-quickchart {\n",
              "    background-color: var(--bg-color);\n",
              "    border: none;\n",
              "    border-radius: 50%;\n",
              "    cursor: pointer;\n",
              "    display: none;\n",
              "    fill: var(--fill-color);\n",
              "    height: 32px;\n",
              "    padding: 0;\n",
              "    width: 32px;\n",
              "  }\n",
              "\n",
              "  .colab-df-quickchart:hover {\n",
              "    background-color: var(--hover-bg-color);\n",
              "    box-shadow: 0 1px 2px rgba(60, 64, 67, 0.3), 0 1px 3px 1px rgba(60, 64, 67, 0.15);\n",
              "    fill: var(--button-hover-fill-color);\n",
              "  }\n",
              "\n",
              "  .colab-df-quickchart-complete:disabled,\n",
              "  .colab-df-quickchart-complete:disabled:hover {\n",
              "    background-color: var(--disabled-bg-color);\n",
              "    fill: var(--disabled-fill-color);\n",
              "    box-shadow: none;\n",
              "  }\n",
              "\n",
              "  .colab-df-spinner {\n",
              "    border: 2px solid var(--fill-color);\n",
              "    border-color: transparent;\n",
              "    border-bottom-color: var(--fill-color);\n",
              "    animation:\n",
              "      spin 1s steps(1) infinite;\n",
              "  }\n",
              "\n",
              "  @keyframes spin {\n",
              "    0% {\n",
              "      border-color: transparent;\n",
              "      border-bottom-color: var(--fill-color);\n",
              "      border-left-color: var(--fill-color);\n",
              "    }\n",
              "    20% {\n",
              "      border-color: transparent;\n",
              "      border-left-color: var(--fill-color);\n",
              "      border-top-color: var(--fill-color);\n",
              "    }\n",
              "    30% {\n",
              "      border-color: transparent;\n",
              "      border-left-color: var(--fill-color);\n",
              "      border-top-color: var(--fill-color);\n",
              "      border-right-color: var(--fill-color);\n",
              "    }\n",
              "    40% {\n",
              "      border-color: transparent;\n",
              "      border-right-color: var(--fill-color);\n",
              "      border-top-color: var(--fill-color);\n",
              "    }\n",
              "    60% {\n",
              "      border-color: transparent;\n",
              "      border-right-color: var(--fill-color);\n",
              "    }\n",
              "    80% {\n",
              "      border-color: transparent;\n",
              "      border-right-color: var(--fill-color);\n",
              "      border-bottom-color: var(--fill-color);\n",
              "    }\n",
              "    90% {\n",
              "      border-color: transparent;\n",
              "      border-bottom-color: var(--fill-color);\n",
              "    }\n",
              "  }\n",
              "</style>\n",
              "\n",
              "  <script>\n",
              "    async function quickchart(key) {\n",
              "      const quickchartButtonEl =\n",
              "        document.querySelector('#' + key + ' button');\n",
              "      quickchartButtonEl.disabled = true;  // To prevent multiple clicks.\n",
              "      quickchartButtonEl.classList.add('colab-df-spinner');\n",
              "      try {\n",
              "        const charts = await google.colab.kernel.invokeFunction(\n",
              "            'suggestCharts', [key], {});\n",
              "      } catch (error) {\n",
              "        console.error('Error during call to suggestCharts:', error);\n",
              "      }\n",
              "      quickchartButtonEl.classList.remove('colab-df-spinner');\n",
              "      quickchartButtonEl.classList.add('colab-df-quickchart-complete');\n",
              "    }\n",
              "    (() => {\n",
              "      let quickchartButtonEl =\n",
              "        document.querySelector('#df-52e5c9d5-d94f-454f-bf12-fd84c40d5dcc button');\n",
              "      quickchartButtonEl.style.display =\n",
              "        google.colab.kernel.accessAllowed ? 'block' : 'none';\n",
              "    })();\n",
              "  </script>\n",
              "</div>\n",
              "    </div>\n",
              "  </div>\n"
            ],
            "application/vnd.google.colaboratory.intrinsic+json": {
              "type": "dataframe",
              "variable_name": "df",
              "summary": "{\n  \"name\": \"df\",\n  \"rows\": 891,\n  \"fields\": [\n    {\n      \"column\": \"PassengerId\",\n      \"properties\": {\n        \"dtype\": \"number\",\n        \"std\": 257,\n        \"min\": 1,\n        \"max\": 891,\n        \"num_unique_values\": 891,\n        \"samples\": [\n          710,\n          440,\n          841\n        ],\n        \"semantic_type\": \"\",\n        \"description\": \"\"\n      }\n    },\n    {\n      \"column\": \"Survived\",\n      \"properties\": {\n        \"dtype\": \"number\",\n        \"std\": 0,\n        \"min\": 0,\n        \"max\": 1,\n        \"num_unique_values\": 2,\n        \"samples\": [\n          1,\n          0\n        ],\n        \"semantic_type\": \"\",\n        \"description\": \"\"\n      }\n    },\n    {\n      \"column\": \"Pclass\",\n      \"properties\": {\n        \"dtype\": \"number\",\n        \"std\": 0,\n        \"min\": 1,\n        \"max\": 3,\n        \"num_unique_values\": 3,\n        \"samples\": [\n          3,\n          1\n        ],\n        \"semantic_type\": \"\",\n        \"description\": \"\"\n      }\n    },\n    {\n      \"column\": \"Name\",\n      \"properties\": {\n        \"dtype\": \"string\",\n        \"num_unique_values\": 891,\n        \"samples\": [\n          \"Moubarek, Master. Halim Gonios (\\\"William George\\\")\",\n          \"Kvillner, Mr. Johan Henrik Johannesson\"\n        ],\n        \"semantic_type\": \"\",\n        \"description\": \"\"\n      }\n    },\n    {\n      \"column\": \"Sex\",\n      \"properties\": {\n        \"dtype\": \"category\",\n        \"num_unique_values\": 2,\n        \"samples\": [\n          \"female\",\n          \"male\"\n        ],\n        \"semantic_type\": \"\",\n        \"description\": \"\"\n      }\n    },\n    {\n      \"column\": \"Age\",\n      \"properties\": {\n        \"dtype\": \"number\",\n        \"std\": 14.526497332334044,\n        \"min\": 0.42,\n        \"max\": 80.0,\n        \"num_unique_values\": 88,\n        \"samples\": [\n          0.75,\n          22.0\n        ],\n        \"semantic_type\": \"\",\n        \"description\": \"\"\n      }\n    },\n    {\n      \"column\": \"SibSp\",\n      \"properties\": {\n        \"dtype\": \"number\",\n        \"std\": 1,\n        \"min\": 0,\n        \"max\": 8,\n        \"num_unique_values\": 7,\n        \"samples\": [\n          1,\n          0\n        ],\n        \"semantic_type\": \"\",\n        \"description\": \"\"\n      }\n    },\n    {\n      \"column\": \"Parch\",\n      \"properties\": {\n        \"dtype\": \"number\",\n        \"std\": 0,\n        \"min\": 0,\n        \"max\": 6,\n        \"num_unique_values\": 7,\n        \"samples\": [\n          0,\n          1\n        ],\n        \"semantic_type\": \"\",\n        \"description\": \"\"\n      }\n    },\n    {\n      \"column\": \"Ticket\",\n      \"properties\": {\n        \"dtype\": \"string\",\n        \"num_unique_values\": 681,\n        \"samples\": [\n          \"11774\",\n          \"248740\"\n        ],\n        \"semantic_type\": \"\",\n        \"description\": \"\"\n      }\n    },\n    {\n      \"column\": \"Fare\",\n      \"properties\": {\n        \"dtype\": \"number\",\n        \"std\": 49.693428597180905,\n        \"min\": 0.0,\n        \"max\": 512.3292,\n        \"num_unique_values\": 248,\n        \"samples\": [\n          11.2417,\n          51.8625\n        ],\n        \"semantic_type\": \"\",\n        \"description\": \"\"\n      }\n    },\n    {\n      \"column\": \"Cabin\",\n      \"properties\": {\n        \"dtype\": \"category\",\n        \"num_unique_values\": 147,\n        \"samples\": [\n          \"D45\",\n          \"B49\"\n        ],\n        \"semantic_type\": \"\",\n        \"description\": \"\"\n      }\n    },\n    {\n      \"column\": \"Embarked\",\n      \"properties\": {\n        \"dtype\": \"category\",\n        \"num_unique_values\": 3,\n        \"samples\": [\n          \"S\",\n          \"C\"\n        ],\n        \"semantic_type\": \"\",\n        \"description\": \"\"\n      }\n    }\n  ]\n}"
            }
          },
          "metadata": {},
          "execution_count": 9
        }
      ],
      "source": [
        "df = pd.read_csv(\"data (1).csv\")\n",
        "df"
      ]
    },
    {
      "cell_type": "markdown",
      "id": "1026e8c6-513a-41e3-b2f4-68aae18b8435",
      "metadata": {
        "id": "1026e8c6-513a-41e3-b2f4-68aae18b8435"
      },
      "source": [
        "1. Узнайте сколько было на борту человек"
      ]
    },
    {
      "cell_type": "code",
      "execution_count": null,
      "id": "e74655aa-b97c-42e5-b972-e0753ddc2331",
      "metadata": {
        "id": "e74655aa-b97c-42e5-b972-e0753ddc2331",
        "colab": {
          "base_uri": "https://localhost:8080/"
        },
        "outputId": "ae38599a-2c2a-4533-e687-248973d16690"
      },
      "outputs": [
        {
          "output_type": "execute_result",
          "data": {
            "text/plain": [
              "(891,)"
            ]
          },
          "metadata": {},
          "execution_count": 50
        }
      ],
      "source": [
        "df[\"PassengerId\"].unique().shape"
      ]
    },
    {
      "cell_type": "markdown",
      "id": "eee028a5-9311-4a4f-b4ac-1fb75acfb4b3",
      "metadata": {
        "id": "eee028a5-9311-4a4f-b4ac-1fb75acfb4b3"
      },
      "source": [
        "2. Какой медианный и средний возраста пассажиров"
      ]
    },
    {
      "cell_type": "code",
      "execution_count": null,
      "id": "ac0fb641-96d2-4e7c-88d5-636ce3b699d2",
      "metadata": {
        "id": "ac0fb641-96d2-4e7c-88d5-636ce3b699d2",
        "colab": {
          "base_uri": "https://localhost:8080/"
        },
        "outputId": "1ffb4d74-13d3-4235-8a38-099d4b1399e4"
      },
      "outputs": [
        {
          "output_type": "stream",
          "name": "stdout",
          "text": [
            "28.0 29.69911764705882\n"
          ]
        }
      ],
      "source": [
        "print(df[\"Age\"].median(), df[\"Age\"].mean())"
      ]
    },
    {
      "cell_type": "markdown",
      "id": "cd7979ba-2fa8-4fd3-986d-26cee122da1f",
      "metadata": {
        "id": "cd7979ba-2fa8-4fd3-986d-26cee122da1f"
      },
      "source": [
        "3. Посчитайте процент выживаемости детей(до 16 лет) и взрослых"
      ]
    },
    {
      "cell_type": "code",
      "execution_count": 37,
      "id": "3915f77b-116c-482b-8644-2f5f11931af9",
      "metadata": {
        "id": "3915f77b-116c-482b-8644-2f5f11931af9",
        "colab": {
          "base_uri": "https://localhost:8080/"
        },
        "outputId": "84c6c290-9d16-4f2f-816e-4d2e6313cfd6"
      },
      "outputs": [
        {
          "output_type": "stream",
          "name": "stdout",
          "text": [
            "Проц выж детей  59.036144578313255\n",
            "Проц выж взрослых  38.10316139767055\n"
          ]
        }
      ],
      "source": [
        "print(\"Проц выж детей \", df[\"PassengerId\"][df[\"Age\"] < 16][df[\"Survived\"] == 1].count() \\\n",
        "      / df[\"PassengerId\"][df[\"Age\"] < 16].count() * 100)\n",
        "print(\"Проц выж взрослых \", df[\"PassengerId\"][df[\"Age\"] >= 18][df[\"Survived\"] == 1].count() \\\n",
        "      / df[\"PassengerId\"][df[\"Age\"] >= 18].count() * 100)"
      ]
    },
    {
      "cell_type": "markdown",
      "id": "1b69ba67-61a8-4765-9795-cfab1a09e929",
      "metadata": {
        "id": "1b69ba67-61a8-4765-9795-cfab1a09e929"
      },
      "source": [
        "4. Верна ли гипотеза, что женщины и дети сажались в шлюпки первыми и выживали больше?"
      ]
    },
    {
      "cell_type": "code",
      "execution_count": 38,
      "id": "1228d2e9-fc56-4240-95c6-c98a8b84c016",
      "metadata": {
        "id": "1228d2e9-fc56-4240-95c6-c98a8b84c016",
        "colab": {
          "base_uri": "https://localhost:8080/"
        },
        "outputId": "9c3e7e78-df9f-4cb5-b8d7-3d135751d044"
      },
      "outputs": [
        {
          "output_type": "stream",
          "name": "stdout",
          "text": [
            "68.81720430107528\n",
            "17.72151898734177\n",
            "\n",
            "Процент выживаемости детей и женщин выше, чем мужчин, поэтому можно сделать вывод, что гипотеза верна\n"
          ]
        }
      ],
      "source": [
        "print(df[\"PassengerId\"][(df[\"Sex\"] == \"female\") | (df[\"Age\"] < 18)][df[\"Survived\"] == 1].count() \\\n",
        "      / df[\"PassengerId\"][(df[\"Sex\"] == \"female\") | (df[\"Age\"] < 18)].count() * 100)\n",
        "print(df[\"PassengerId\"][(df[\"Sex\"] == \"male\") & (df[\"Age\"] >= 18)][df[\"Survived\"] == 1].count() \\\n",
        "      / df[\"PassengerId\"][(df[\"Sex\"] == \"male\") & (df[\"Age\"] >= 18)].count() * 100)\n",
        "print(\"\\nПроцент выживаемости детей и женщин выше, чем мужчин, поэтому можно сделать вывод, что гипотеза верна\")"
      ]
    },
    {
      "cell_type": "markdown",
      "id": "5acec4fd-f740-49a8-a5d8-562d358239c9",
      "metadata": {
        "id": "5acec4fd-f740-49a8-a5d8-562d358239c9"
      },
      "source": [
        "5. Зависит ли выживаемость от класса обслуживания?"
      ]
    },
    {
      "cell_type": "code",
      "execution_count": null,
      "id": "cac8daef-f4e8-4c8b-b7f4-d41a6adf35ed",
      "metadata": {
        "id": "cac8daef-f4e8-4c8b-b7f4-d41a6adf35ed",
        "colab": {
          "base_uri": "https://localhost:8080/"
        },
        "outputId": "153273f2-7ec8-49c1-f09b-2599dcaf93d5"
      },
      "outputs": [
        {
          "output_type": "stream",
          "name": "stdout",
          "text": [
            "Pclass  Survived\n",
            "1       0            80\n",
            "        1           136\n",
            "2       0            97\n",
            "        1            87\n",
            "3       0           372\n",
            "        1           119\n",
            "Name: PassengerId, dtype: int64\n",
            "0.6296296296296297 0.47282608695652173 0.24236252545824846\n",
            "\n",
            "Да, зависит, чем выше класс, тем выше выживаемость\n"
          ]
        }
      ],
      "source": [
        "print(df.groupby([\"Pclass\", \"Survived\"])[\"PassengerId\"].count())\n",
        "print(136 / (80 + 136), 87 / (87 + 97), 119 / (119 + 372))\n",
        "print(\"\\nДа, зависит, чем выше класс, тем выше выживаемость\")"
      ]
    },
    {
      "cell_type": "markdown",
      "id": "8d6171a9-0f75-4f3e-ac54-95d03d1f70b6",
      "metadata": {
        "id": "8d6171a9-0f75-4f3e-ac54-95d03d1f70b6"
      },
      "source": [
        "6. Посчитайте средний возраст умерших женщин и мужчин"
      ]
    },
    {
      "cell_type": "code",
      "execution_count": null,
      "id": "c64d0892-2fb8-4304-966c-5cbb32b03c0a",
      "metadata": {
        "id": "c64d0892-2fb8-4304-966c-5cbb32b03c0a",
        "colab": {
          "base_uri": "https://localhost:8080/"
        },
        "outputId": "f036e8e1-5ce5-490c-81e1-eee47aefa29f"
      },
      "outputs": [
        {
          "output_type": "stream",
          "name": "stdout",
          "text": [
            "Средний возраст умерших женщин  25.046875\n",
            "Средний возраст умерших мужчин  31.618055555555557\n"
          ]
        }
      ],
      "source": [
        "print(\"Средний возраст умерших женщин \", df[\"Age\"][(df[\"Sex\"] == \"female\")][df[\"Survived\"] == 0].mean())\n",
        "print(\"Средний возраст умерших мужчин \", df[\"Age\"][(df[\"Sex\"] == \"male\")][df[\"Survived\"] == 0].mean())"
      ]
    },
    {
      "cell_type": "markdown",
      "id": "d29320f9-aef8-452c-9d61-0afa72dd93b6",
      "metadata": {
        "id": "d29320f9-aef8-452c-9d61-0afa72dd93b6"
      },
      "source": [
        "7. Различается ли процент выживаемости пассажиров с хотя бы одним родственником на борту и одиночек?"
      ]
    },
    {
      "cell_type": "code",
      "execution_count": null,
      "id": "d04e1904-f9f3-40bd-abbd-4d53ee9f7bd2",
      "metadata": {
        "id": "d04e1904-f9f3-40bd-abbd-4d53ee9f7bd2",
        "colab": {
          "base_uri": "https://localhost:8080/"
        },
        "outputId": "5d8a3a1d-0209-4cee-a635-217c8251e40b"
      },
      "outputs": [
        {
          "output_type": "stream",
          "name": "stdout",
          "text": [
            "38.38383838383838\n",
            "37.38317757009346\n",
            "\n",
            "Можно сказать, что почти не отличается, \n",
            "то есть количество родственников на борту не влияло на смерть человека вовремя кораблекрушения, что вполне логично.\n"
          ]
        }
      ],
      "source": [
        "print(df[\"PassengerId\"][(df[\"SibSp\"] >= 0) | (df[\"Parch\"] >= 0)][df[\"Survived\"] == 1].count() / df[\"PassengerId\"][(df[\"SibSp\"] >= 0) | (df[\"Parch\"] >= 0)].count() * 100)\n",
        "print(df[\"PassengerId\"][(df[\"SibSp\"] == 0) | (df[\"Parch\"] == 0)][df[\"Survived\"] == 1].count() / df[\"PassengerId\"][(df[\"SibSp\"] == 0) | (df[\"Parch\"] == 0)].count() * 100)\n",
        "print(\"\\nМожно сказать, что почти не отличается, \\nто есть количество родственников на борту не влияло на смерть человека вовремя кораблекрушения, что вполне логично.\")"
      ]
    },
    {
      "cell_type": "markdown",
      "id": "1d447d6e-cfde-411c-9078-cd8f41f02d8b",
      "metadata": {
        "id": "1d447d6e-cfde-411c-9078-cd8f41f02d8b"
      },
      "source": [
        "8. Различается ли средняя стоимость билета у умерших и выживших пассажиров?"
      ]
    },
    {
      "cell_type": "code",
      "execution_count": null,
      "id": "b30df6b1-5eca-43da-a115-1c1a3cbfd899",
      "metadata": {
        "id": "b30df6b1-5eca-43da-a115-1c1a3cbfd899",
        "colab": {
          "base_uri": "https://localhost:8080/"
        },
        "outputId": "aeeb8269-d26a-4909-e154-e61828f17d1d"
      },
      "outputs": [
        {
          "output_type": "stream",
          "name": "stdout",
          "text": [
            "Ср стоим билета умершего  22.117886885245902\n",
            "Ср стоим билета выжившего  48.39540760233918\n",
            "\n",
            "Да, ср стоим билета различается,\n",
            "ранее уже было выяснено, что смертность зависела от класса обслуживания,\n",
            "чем выше класс (дороже билет), тем выше выживаемость\n"
          ]
        }
      ],
      "source": [
        "print(\"Ср стоим билета умершего \", df[\"Fare\"][df[\"Survived\"] == 0].mean())\n",
        "print(\"Ср стоим билета выжившего \", df[\"Fare\"][df[\"Survived\"] == 1].mean())\n",
        "print(\"\\nДа, ср стоим билета различается,\\nранее уже было выяснено, что смертность зависела от класса обслуживания,\\nчем выше класс (дороже билет), тем выше выживаемость\")"
      ]
    },
    {
      "cell_type": "markdown",
      "id": "c41d5d99-65f7-4d17-82ae-971ec959f327",
      "metadata": {
        "id": "c41d5d99-65f7-4d17-82ae-971ec959f327"
      },
      "source": [
        "9. Выведите максимальный и минимальный возраст выживших пассажиров во 2 классе обслуживания"
      ]
    },
    {
      "cell_type": "code",
      "execution_count": null,
      "id": "275bcc04-659b-4521-a9e5-200a5f4ef674",
      "metadata": {
        "id": "275bcc04-659b-4521-a9e5-200a5f4ef674",
        "colab": {
          "base_uri": "https://localhost:8080/"
        },
        "outputId": "7163c5e1-d25a-4158-bd56-21a692d9256b"
      },
      "outputs": [
        {
          "output_type": "stream",
          "name": "stdout",
          "text": [
            "Макс возраст  62.0\n",
            "Мин возраст  0.67\n"
          ]
        }
      ],
      "source": [
        "print(\"Макс возраст \", df[\"Age\"][df[\"Survived\"] == 1][df[\"Pclass\"] == 2].max())\n",
        "print(\"Мин возраст \", df[\"Age\"][df[\"Survived\"] == 1][df[\"Pclass\"] == 2].min())"
      ]
    },
    {
      "cell_type": "markdown",
      "id": "a1f7a5c0-259c-4837-a5d1-2dfc05e7c13e",
      "metadata": {
        "id": "a1f7a5c0-259c-4837-a5d1-2dfc05e7c13e"
      },
      "source": [
        "10. Подтвердите или опровергните гипотезу: молодым мужчинам(от 18 лет) выжить легче, чем более взрослым"
      ]
    },
    {
      "cell_type": "code",
      "execution_count": null,
      "id": "a2da4d57-edb4-4179-8bee-3deda6cd00e6",
      "metadata": {
        "id": "a2da4d57-edb4-4179-8bee-3deda6cd00e6",
        "colab": {
          "base_uri": "https://localhost:8080/"
        },
        "outputId": "8e8c77e0-cb84-4630-f1c8-2ebeb7971b7b"
      },
      "outputs": [
        {
          "output_type": "stream",
          "name": "stdout",
          "text": [
            "Макс возраст муж 80.0\n",
            "Рассматриваемая возрастная категория - муж от 18 до 80 лет.\n",
            "Пусть 18 - 49.0 - возраст молодых муж,\n",
            "Пусть 49.0 - 80 - возраст более вз муж.\n",
            "Молодые муж 38.33017077798861\n",
            "Мин возраст 36.486486486486484\n",
            "\n",
            "Если взять границу возрастов в 40 лет, то получим\n",
            "Молодые муж 38.58093126385809\n",
            "Мин возраст 36.666666666666664\n",
            "\n",
            "Если взять границу возрастов в 30 лет, то получим\n",
            "Молодые муж 35.47297297297297\n",
            "Мин возраст 40.65573770491803\n",
            "\n",
            "На основе полученных данных можно сказать, что мужчины выживали ве зависимости от возраста.\n"
          ]
        }
      ],
      "source": [
        "print(\"Макс возраст муж\", df[\"Age\"][df[\"Sex\"] == \"male\"].max())\n",
        "print(\"Рассматриваемая возрастная категория - муж от 18 до 80 лет.\")\n",
        "print(\"Пусть 18 -\", (18 + 80) / 2, \"- возраст молодых муж,\")\n",
        "print(\"Пусть\", (18 + 80) / 2, \"- 80 - возраст более вз муж.\")\n",
        "print(\"Молодые муж\", df[\"PassengerId\"][df[\"Survived\"] == 1][(df[\"Age\"] >= 18) & (df[\"Age\"] <= 49)].count() / df[\"PassengerId\"][(df[\"Age\"] >= 18) & (df[\"Age\"] <= 49)].count() * 100)\n",
        "print(\"Мин возраст\", df[\"PassengerId\"][df[\"Survived\"] == 1][(df[\"Age\"] > 49) & (df[\"Age\"] <= 80)].count() / df[\"PassengerId\"][(df[\"Age\"] > 49) & (df[\"Age\"] <= 80)].count() * 100)\n",
        "print(\"\\nЕсли взять границу возрастов в 40 лет, то получим\")\n",
        "print(\"Молодые муж\", df[\"PassengerId\"][df[\"Survived\"] == 1][(df[\"Age\"] >= 18) & (df[\"Age\"] <= 40)].count() / df[\"PassengerId\"][(df[\"Age\"] >= 18) & (df[\"Age\"] <= 40)].count() * 100)\n",
        "print(\"Мин возраст\", df[\"PassengerId\"][df[\"Survived\"] == 1][(df[\"Age\"] > 40) & (df[\"Age\"] <= 80)].count() / df[\"PassengerId\"][(df[\"Age\"] > 40) & (df[\"Age\"] <= 80)].count() * 100)\n",
        "print(\"\\nЕсли взять границу возрастов в 30 лет, то получим\")\n",
        "print(\"Молодые муж\", df[\"PassengerId\"][df[\"Survived\"] == 1][(df[\"Age\"] >= 18) & (df[\"Age\"] <= 30)].count() / df[\"PassengerId\"][(df[\"Age\"] >= 18) & (df[\"Age\"] <= 30)].count() * 100)\n",
        "print(\"Мин возраст\", df[\"PassengerId\"][df[\"Survived\"] == 1][(df[\"Age\"] > 30) & (df[\"Age\"] <= 80)].count() / df[\"PassengerId\"][(df[\"Age\"] > 30) & (df[\"Age\"] <= 80)].count() * 100)\n",
        "print(\"\\nНа основе полученных данных можно сказать, что мужчины выживали ве зависимости от возраста.\")"
      ]
    },
    {
      "cell_type": "markdown",
      "id": "deb4ca3a-3d8a-4205-bee9-d26fd28638b2",
      "metadata": {
        "id": "deb4ca3a-3d8a-4205-bee9-d26fd28638b2"
      },
      "source": [
        "### 3. Визуализация"
      ]
    },
    {
      "cell_type": "markdown",
      "id": "f8941ce1-cbf2-465a-b013-1b84aeb999ef",
      "metadata": {
        "id": "f8941ce1-cbf2-465a-b013-1b84aeb999ef"
      },
      "source": [
        "Используя библиотеки matplotlib/sns/plotly/pandas и набор данных представленный ранее визуализируйте"
      ]
    },
    {
      "cell_type": "code",
      "source": [
        "import matplotlib.pyplot as plt"
      ],
      "metadata": {
        "id": "GqwTdk3jdOf9"
      },
      "id": "GqwTdk3jdOf9",
      "execution_count": 3,
      "outputs": []
    },
    {
      "cell_type": "markdown",
      "id": "5e98ce6f-8d02-4120-ad85-241494c038d6",
      "metadata": {
        "id": "5e98ce6f-8d02-4120-ad85-241494c038d6"
      },
      "source": [
        "1. Постройте гистограмму распределения возростов пассажиров"
      ]
    },
    {
      "cell_type": "code",
      "execution_count": null,
      "id": "664666b2-17b7-49dd-a3bd-c4be9361755d",
      "metadata": {
        "id": "664666b2-17b7-49dd-a3bd-c4be9361755d",
        "colab": {
          "base_uri": "https://localhost:8080/",
          "height": 472
        },
        "outputId": "6e8c9a39-dfbd-431f-c984-a24997224a89"
      },
      "outputs": [
        {
          "output_type": "display_data",
          "data": {
            "text/plain": [
              "<Figure size 640x480 with 1 Axes>"
            ],
            "image/png": "[encoded data removed]"
          },
          "metadata": {}
        }
      ],
      "source": [
        "plt.bar(df['Age'].value_counts().index, df['Age'].value_counts().values)\n",
        "plt.title('Распределение возрастов')\n",
        "plt.xlabel('Возраст')\n",
        "plt.show()"
      ]
    },
    {
      "cell_type": "markdown",
      "id": "4c7500bb-36ca-4ea7-bc3c-4f15afbd4c41",
      "metadata": {
        "id": "4c7500bb-36ca-4ea7-bc3c-4f15afbd4c41"
      },
      "source": [
        "2. Постройте гистограммы распределения цен для пассажиров разных классов"
      ]
    },
    {
      "cell_type": "code",
      "execution_count": null,
      "id": "7325e7f8-5f00-4a82-8184-7064505f7ccd",
      "metadata": {
        "id": "7325e7f8-5f00-4a82-8184-7064505f7ccd",
        "colab": {
          "base_uri": "https://localhost:8080/",
          "height": 472
        },
        "outputId": "16c99b26-e8e5-45f3-bc2f-3ab77cda1a0c"
      },
      "outputs": [
        {
          "output_type": "display_data",
          "data": {
            "text/plain": [
              "<Figure size 640x480 with 1 Axes>"
            ],
            "image/png": "[encoded data removed]"
          },
          "metadata": {}
        }
      ],
      "source": [
        "df1 = df[\"Fare\"][df[\"Pclass\"] == 1]\n",
        "df2 = df[\"Fare\"][df[\"Pclass\"] == 2]\n",
        "df3 = df[\"Fare\"][df[\"Pclass\"] == 3]\n",
        "plt.hist([df1, df2, df3], stacked=True, color=[\"red\", \"blue\", \"green\"], label=[\"1 класс\", \"2 класс\", \"3 класс\"])\n",
        "plt.title('Распределение цен в зависимости от классов')\n",
        "plt.xlabel('Цена')\n",
        "plt.ylabel('Количество')\n",
        "plt.legend()\n",
        "plt.show()"
      ]
    },
    {
      "cell_type": "markdown",
      "id": "efdd0669-36e0-4708-ac6b-ad0d92881113",
      "metadata": {
        "id": "efdd0669-36e0-4708-ac6b-ad0d92881113"
      },
      "source": [
        "3. Постройте зависимость цены от возраста пассажира"
      ]
    },
    {
      "cell_type": "code",
      "execution_count": null,
      "id": "7504a170-04a1-4b86-924d-8d46be16fd3c",
      "metadata": {
        "id": "7504a170-04a1-4b86-924d-8d46be16fd3c",
        "colab": {
          "base_uri": "https://localhost:8080/",
          "height": 472
        },
        "outputId": "c88e6b0c-0661-4057-ca6c-26454cfd275e"
      },
      "outputs": [
        {
          "output_type": "display_data",
          "data": {
            "text/plain": [
              "<Figure size 640x480 with 1 Axes>"
            ],
            "image/png": "[encoded data removed]"
          },
          "metadata": {}
        }
      ],
      "source": [
        "plt.scatter(df[\"Fare\"].values, df[\"Age\"].values)\n",
        "plt.title('Зависимость цены от возраста')\n",
        "plt.xlabel('Цена')\n",
        "plt.ylabel('Возраст')\n",
        "plt.show()"
      ]
    },
    {
      "cell_type": "markdown",
      "id": "b5839a48-e992-45fc-81ee-59cb5aa79dda",
      "metadata": {
        "id": "b5839a48-e992-45fc-81ee-59cb5aa79dda"
      },
      "source": [
        "4. Постройте box plot отображающий распределение цен на билеты в разных классах"
      ]
    },
    {
      "cell_type": "code",
      "execution_count": null,
      "id": "1a942378-45ea-47a0-bac9-488960491613",
      "metadata": {
        "id": "1a942378-45ea-47a0-bac9-488960491613",
        "colab": {
          "base_uri": "https://localhost:8080/",
          "height": 472
        },
        "outputId": "49e91cda-08a5-441e-eeac-2e4a3535f3ff"
      },
      "outputs": [
        {
          "output_type": "display_data",
          "data": {
            "text/plain": [
              "<Figure size 640x480 with 1 Axes>"
            ],
            "image/png": "[encoded data removed]"
          },
          "metadata": {}
        }
      ],
      "source": [
        "plt.boxplot([df1, df2, df3])\n",
        "plt.title('Распределение цен в зависимости от классов')\n",
        "plt.xlabel('Класс')\n",
        "plt.ylabel('Цена')\n",
        "plt.show()"
      ]
    },
    {
      "cell_type": "markdown",
      "id": "d4c97bef-bb64-43cc-a89f-7510174492ec",
      "metadata": {
        "id": "d4c97bef-bb64-43cc-a89f-7510174492ec"
      },
      "source": [
        "5. Визуализируйте распределение долей выживших среди мужчин, женщин и детей(до 16 лет)"
      ]
    },
    {
      "cell_type": "code",
      "execution_count": 40,
      "id": "a1f444af-3544-432c-8dc6-bb74d4cff272",
      "metadata": {
        "id": "a1f444af-3544-432c-8dc6-bb74d4cff272",
        "colab": {
          "base_uri": "https://localhost:8080/",
          "height": 406
        },
        "outputId": "9996ac14-3057-49df-f255-62cbd901c7d3"
      },
      "outputs": [
        {
          "output_type": "display_data",
          "data": {
            "text/plain": [
              "<Figure size 640x480 with 1 Axes>"
            ],
            "image/png": "[encoded data removed]"
          },
          "metadata": {}
        }
      ],
      "source": [
        "pie_df = [df.PassengerId[(df[\"Sex\"] == \"male\") & (df[\"Age\"] >= 16) & (df[\"Survived\"] == 1)].count(),\n",
        "          df.PassengerId[(df[\"Sex\"] == \"female\") & (df[\"Age\"] >= 16) & (df[\"Survived\"] == 1)].count(),\n",
        "          df.PassengerId[(df[\"Age\"] < 16) & (df[\"Survived\"] == 1)].count()]\n",
        "plt.pie(pie_df, labels=[\"мужчины\", \"женщины\", \"дети\"], autopct='%1i%%')\n",
        "plt.show()"
      ]
    },
    {
      "cell_type": "markdown",
      "id": "16249674-e680-4ab0-a16a-4e98c24202ed",
      "metadata": {
        "id": "16249674-e680-4ab0-a16a-4e98c24202ed"
      },
      "source": [
        "6. Сравните плотности распределения возрастов выживших и умерших пассажиров, сделайте выводы"
      ]
    },
    {
      "cell_type": "code",
      "execution_count": 46,
      "id": "5d1f5e09-3f97-45ad-87f8-c9796cc214db",
      "metadata": {
        "id": "5d1f5e09-3f97-45ad-87f8-c9796cc214db",
        "colab": {
          "base_uri": "https://localhost:8080/",
          "height": 526
        },
        "outputId": "0615347a-9c8d-426b-d64e-36b1f4fc7bd5"
      },
      "outputs": [
        {
          "output_type": "display_data",
          "data": {
            "text/plain": [
              "<Figure size 640x480 with 1 Axes>"
            ],
            "image/png": "[encoded data removed]"
          },
          "metadata": {}
        },
        {
          "output_type": "stream",
          "name": "stdout",
          "text": [
            "Из графиков видно, что пассажиры умирали преимущественно в возрасте 20-40 лет.\n",
            "Это связано с тем, что в первую очередь спасали детей, людей пожилого возраста и женщин.\n",
            "Можно сказать, что нет смертей среди детей и людей пожилого возраста, но и на борту корабля их было не так уж много.\n"
          ]
        }
      ],
      "source": [
        "import seaborn as sns\n",
        "\n",
        "sns.kdeplot(df[df['Survived'] == 1]['Age'], fill=True, label='Выжившие')\n",
        "sns.kdeplot(df[df['Survived'] == 0]['Age'], fill=True, label='Умершие')\n",
        "\n",
        "plt.title('Плотности распределения возрастов')\n",
        "plt.xlabel('Возраст')\n",
        "plt.ylabel('Плотность')\n",
        "plt.legend()\n",
        "plt.show()\n",
        "print(\"Из графиков видно, что пассажиры умирали преимущественно в возрасте 20-40 лет.\")\n",
        "print(\"Это связано с тем, что в первую очередь спасали детей, людей пожилого возраста и женщин.\")\n",
        "print(\"Можно сказать, что нет смертей среди детей и людей пожилого возраста, но и на борту корабля их было не так уж много.\")"
      ]
    },
    {
      "cell_type": "markdown",
      "id": "16afdeec-8c90-4ed1-a599-e0b1343bbf5c",
      "metadata": {
        "id": "16afdeec-8c90-4ed1-a599-e0b1343bbf5c"
      },
      "source": [
        "7. Постройте круговую диаграмму отображающую выживаемость мужчин и женщин в разных классах обслуживания(визуализация должна быть интуитивно понятная без объяснений, женщины и мужчины соответствующих классов объеденены визуально в одну группу и 2 подгруппы)*\n",
        "\n",
        "\\* Задание на доп. балл"
      ]
    },
    {
      "cell_type": "code",
      "source": [
        "def per_cend_of_survivers(num_class):\n",
        "    return [df[\"PassengerId\"][(df[\"Sex\"] == \"female\") & (df[\"Pclass\"] == num_class) & (df[\"Survived\"] == 1)].count() /\n",
        "            df[\"PassengerId\"][(df[\"Sex\"] == \"female\") & (df[\"Pclass\"] == num_class)].count() * 100,\n",
        "            df[\"PassengerId\"][(df[\"Sex\"] == \"male\") & (df[\"Pclass\"] == num_class) & (df[\"Survived\"] == 1)].count() /\n",
        "            df[\"PassengerId\"][(df[\"Sex\"] == \"male\") & (df[\"Pclass\"] == num_class)].count() * 100]\n",
        "\n",
        "array = np.array([per_cend_of_survivers(1), per_cend_of_survivers(2), per_cend_of_survivers(3)])\n",
        "inner_label = [\"ж\", \"м\"] * 3\n",
        "for i in range(len(array)):\n",
        "    for j in range(len(array[i])):\n",
        "      inner_label[i * 2 + j] += (\" (\" + str(round(array[i][j], 2)) + \")\")\n",
        "\n",
        "cmap = plt.colormaps[\"tab20c\"]\n",
        "outer_colors = cmap(np.arange(3)*4)\n",
        "inner_colors = cmap([1, 2, 5, 6, 9, 10])\n",
        "\n",
        "plt.pie(array.sum(axis=1), radius=1, colors=outer_colors,\n",
        "       wedgeprops=dict(width=0.3), labels=[\"1 класс\", \"2 класс\", \"3 класс\"])\n",
        "plt.pie(array.flatten(), radius=0.7, colors=inner_colors,\n",
        "       wedgeprops=dict(width=0.3), labels=inner_label)\n",
        "\n",
        "plt.show()"
      ],
      "metadata": {
        "colab": {
          "base_uri": "https://localhost:8080/",
          "height": 406
        },
        "id": "LJajhOoWCsr3",
        "outputId": "1a33f629-6ccf-452a-96f1-ae05ba86166b"
      },
      "id": "LJajhOoWCsr3",
      "execution_count": 34,
      "outputs": [
        {
          "output_type": "display_data",
          "data": {
            "text/plain": [
              "<Figure size 640x480 with 1 Axes>"
            ],
            "image/png": "[encoded data removed]"
          },
          "metadata": {}
        }
      ]
    }
  ],
  "metadata": {
    "kernelspec": {
      "display_name": "Python 3 (ipykernel)",
      "language": "python",
      "name": "python3"
    },
    "language_info": {
      "codemirror_mode": {
        "name": "ipython",
        "version": 3
      },
      "file_extension": ".py",
      "mimetype": "text/x-python",
      "name": "python",
      "nbconvert_exporter": "python",
      "pygments_lexer": "ipython3",
      "version": "3.11.7"
    },
    "colab": {
      "provenance": []
    }
  },
  "nbformat": 4,
  "nbformat_minor": 5
}